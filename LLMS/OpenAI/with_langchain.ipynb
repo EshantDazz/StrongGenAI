{
 "cells": [
  {
   "cell_type": "code",
   "execution_count": 1,
   "id": "57272d32",
   "metadata": {},
   "outputs": [
    {
     "data": {
      "text/plain": [
       "True"
      ]
     },
     "execution_count": 1,
     "metadata": {},
     "output_type": "execute_result"
    }
   ],
   "source": [
    "from dotenv import load_dotenv\n",
    "load_dotenv()"
   ]
  },
  {
   "cell_type": "code",
   "execution_count": 2,
   "id": "336cb4e3",
   "metadata": {},
   "outputs": [],
   "source": [
    "from langchain_openai import ChatOpenAI"
   ]
  },
  {
   "cell_type": "code",
   "execution_count": null,
   "id": "70b87c27",
   "metadata": {},
   "outputs": [],
   "source": []
  },
  {
   "cell_type": "code",
   "execution_count": null,
   "id": "2b3ca0b3",
   "metadata": {},
   "outputs": [
    {
     "data": {
      "text/plain": [
       "ChatOpenAI(client=<openai.resources.chat.completions.completions.Completions object at 0x10e61fb90>, async_client=<openai.resources.chat.completions.completions.AsyncCompletions object at 0x10e624210>, root_client=<openai.OpenAI object at 0x10e61f790>, root_async_client=<openai.AsyncOpenAI object at 0x10e61fd50>, model_name='gpt-4.1', temperature=0.0, model_kwargs={}, openai_api_key=SecretStr('**********'), use_responses_api=False)"
      ]
     },
     "execution_count": 10,
     "metadata": {},
     "output_type": "execute_result"
    }
   ],
   "source": []
  },
  {
   "cell_type": "code",
   "execution_count": 4,
   "id": "bfe92166",
   "metadata": {},
   "outputs": [],
   "source": [
    "llm1=ChatOpenAI(model='gpt-4.1',use_responses_api=True,temperature=0)\n",
    "llm2=ChatOpenAI(model='gpt-4.1',use_responses_api=False,temperature=0)"
   ]
  },
  {
   "cell_type": "code",
   "execution_count": 9,
   "id": "27e9ec66",
   "metadata": {},
   "outputs": [
    {
     "data": {
      "text/plain": [
       "ChatOpenAI(client=<openai.resources.chat.completions.completions.Completions object at 0x10e61e350>, async_client=<openai.resources.chat.completions.completions.AsyncCompletions object at 0x10e61e790>, root_client=<openai.OpenAI object at 0x10e61b9d0>, root_async_client=<openai.AsyncOpenAI object at 0x10e61cfd0>, model_name='gpt-4.1', temperature=0.0, model_kwargs={}, openai_api_key=SecretStr('**********'), use_responses_api=True)"
      ]
     },
     "execution_count": 9,
     "metadata": {},
     "output_type": "execute_result"
    }
   ],
   "source": [
    "llm1"
   ]
  },
  {
   "cell_type": "code",
   "execution_count": 11,
   "id": "610677d8",
   "metadata": {},
   "outputs": [
    {
     "data": {
      "text/plain": [
       "ChatOpenAI(client=<openai.resources.chat.completions.completions.Completions object at 0x10e61fb90>, async_client=<openai.resources.chat.completions.completions.AsyncCompletions object at 0x10e624210>, root_client=<openai.OpenAI object at 0x10e61f790>, root_async_client=<openai.AsyncOpenAI object at 0x10e61fd50>, model_name='gpt-4.1', temperature=0.0, model_kwargs={}, openai_api_key=SecretStr('**********'), use_responses_api=False)"
      ]
     },
     "execution_count": 11,
     "metadata": {},
     "output_type": "execute_result"
    }
   ],
   "source": [
    "llm2"
   ]
  },
  {
   "cell_type": "code",
   "execution_count": 12,
   "id": "e08a2497",
   "metadata": {},
   "outputs": [
    {
     "data": {
      "text/plain": [
       "False"
      ]
     },
     "execution_count": 12,
     "metadata": {},
     "output_type": "execute_result"
    }
   ],
   "source": [
    "llm1==llm2"
   ]
  },
  {
   "cell_type": "code",
   "execution_count": 5,
   "id": "681ef0cc",
   "metadata": {},
   "outputs": [
    {
     "data": {
      "text/plain": [
       "AIMessage(content=[{'type': 'text', 'text': 'Hello! How can I help you today? 😊', 'annotations': []}], additional_kwargs={}, response_metadata={'id': 'resp_68678ed2a26481a380216a5d75da032404286a0cce435965', 'created_at': 1751617234.0, 'metadata': {}, 'model': 'gpt-4.1-2025-04-14', 'object': 'response', 'service_tier': 'default', 'status': 'completed', 'model_name': 'gpt-4.1-2025-04-14'}, id='msg_68678ed2e60881a391cba67eaf4fb44c04286a0cce435965', usage_metadata={'input_tokens': 8, 'output_tokens': 11, 'total_tokens': 19, 'input_token_details': {'cache_read': 0}, 'output_token_details': {'reasoning': 0}})"
      ]
     },
     "execution_count": 5,
     "metadata": {},
     "output_type": "execute_result"
    }
   ],
   "source": [
    "llm1.invoke(\"Hi\")"
   ]
  },
  {
   "cell_type": "code",
   "execution_count": 7,
   "id": "853a01fe",
   "metadata": {},
   "outputs": [
    {
     "data": {
      "text/plain": [
       "AIMessage(content=[{'type': 'text', 'text': 'Hello! How can I help you today? 😊', 'annotations': []}], additional_kwargs={}, response_metadata={'id': 'resp_68678edf0c2c81a1a648807225c4a5c705b9ceea99a8fe03', 'created_at': 1751617247.0, 'metadata': {}, 'model': 'gpt-4.1-2025-04-14', 'object': 'response', 'service_tier': 'default', 'status': 'completed', 'model_name': 'gpt-4.1-2025-04-14'}, id='msg_68678edf3ce881a1a940d7cab92a63b905b9ceea99a8fe03', usage_metadata={'input_tokens': 8, 'output_tokens': 11, 'total_tokens': 19, 'input_token_details': {'cache_read': 0}, 'output_token_details': {'reasoning': 0}})"
      ]
     },
     "execution_count": 7,
     "metadata": {},
     "output_type": "execute_result"
    }
   ],
   "source": [
    "llm1.invoke(\"Hi\")"
   ]
  },
  {
   "cell_type": "code",
   "execution_count": 8,
   "id": "3736052a",
   "metadata": {},
   "outputs": [
    {
     "data": {
      "text/plain": [
       "AIMessage(content='Hello! How can I help you today? 😊', additional_kwargs={'refusal': None}, response_metadata={'token_usage': {'completion_tokens': 10, 'prompt_tokens': 8, 'total_tokens': 18, 'completion_tokens_details': {'accepted_prediction_tokens': 0, 'audio_tokens': 0, 'reasoning_tokens': 0, 'rejected_prediction_tokens': 0}, 'prompt_tokens_details': {'audio_tokens': 0, 'cached_tokens': 0}}, 'model_name': 'gpt-4.1-2025-04-14', 'system_fingerprint': 'fp_51e1070cf2', 'id': 'chatcmpl-BpVx321qI8G6svCVYEUZxDFl8J0D5', 'service_tier': 'default', 'finish_reason': 'stop', 'logprobs': None}, id='run--54f4d15e-10f2-463c-b70d-984440233610-0', usage_metadata={'input_tokens': 8, 'output_tokens': 10, 'total_tokens': 18, 'input_token_details': {'audio': 0, 'cache_read': 0}, 'output_token_details': {'audio': 0, 'reasoning': 0}})"
      ]
     },
     "execution_count": 8,
     "metadata": {},
     "output_type": "execute_result"
    }
   ],
   "source": [
    "llm2.invoke(\"Hi\")"
   ]
  },
  {
   "cell_type": "code",
   "execution_count": null,
   "id": "f5ee972f",
   "metadata": {},
   "outputs": [],
   "source": []
  }
 ],
 "metadata": {
  "kernelspec": {
   "display_name": ".venv",
   "language": "python",
   "name": "python3"
  },
  "language_info": {
   "codemirror_mode": {
    "name": "ipython",
    "version": 3
   },
   "file_extension": ".py",
   "mimetype": "text/x-python",
   "name": "python",
   "nbconvert_exporter": "python",
   "pygments_lexer": "ipython3",
   "version": "3.11.11"
  }
 },
 "nbformat": 4,
 "nbformat_minor": 5
}
