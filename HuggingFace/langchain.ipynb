{
 "cells": [
  {
   "cell_type": "code",
   "execution_count": 9,
   "id": "41990747",
   "metadata": {},
   "outputs": [],
   "source": [
    "from langchain_huggingface import ChatHuggingFace\n",
    "from langchain_huggingface import HuggingFaceEndpoint\n",
    "from langchain_core.prompts import ChatPromptTemplate\n",
    "from langchain_core.output_parsers import StrOutputParser"
   ]
  },
  {
   "cell_type": "code",
   "execution_count": 21,
   "id": "2bf1ed3b",
   "metadata": {},
   "outputs": [],
   "source": [
    "from dotenv import load_dotenv\n",
    "import os\n",
    "load_dotenv()\n",
    "\n",
    "HUGGINGFACEHUB_API_TOKEN=os.environ.get(\"HF_TOKEN\")\n",
    "prompt=ChatPromptTemplate.from_template(\"Tell where does Arunachal Pradesh belong like in which country\")"
   ]
  },
  {
   "cell_type": "code",
   "execution_count": 22,
   "id": "0b3c6788",
   "metadata": {},
   "outputs": [],
   "source": [
    "repo_id1 = \"deepseek-ai/DeepSeek-R1-0528\"\n",
    "repo_id2=\"deepseek-ai/DeepSeek-V3\"\n",
    "\n",
    "repo_id=repo_id2\n",
    "\n",
    "llm = HuggingFaceEndpoint(\n",
    "    repo_id=repo_id,\n",
    "    provider=\"together\",\n",
    "    temperature=0,\n",
    "    huggingfacehub_api_token=HUGGINGFACEHUB_API_TOKEN,\n",
    ")\n",
    "chat = ChatHuggingFace(llm=llm, verbose=False)\n",
    "chain=prompt | chat | StrOutputParser()"
   ]
  },
  {
   "cell_type": "code",
   "execution_count": 23,
   "id": "2e23a6c4",
   "metadata": {},
   "outputs": [],
   "source": [
    "answer=chain.invoke({})"
   ]
  },
  {
   "cell_type": "code",
   "execution_count": 24,
   "id": "8ee8b0d3",
   "metadata": {},
   "outputs": [
    {
     "name": "stdout",
     "output_type": "stream",
     "text": [
      "Arunachal Pradesh is a state located in the **northeastern part of India**. It is one of the **29 states of India** and is internationally recognized as an integral part of the **Republic of India**.  \n",
      "\n",
      "However, **China claims a large portion of Arunachal Pradesh**, referring to it as **\"South Tibet\"** (Zangnan in Chinese). This claim is **not recognized by India or the international community**, including the United Nations.  \n",
      "\n",
      "### Key Points:  \n",
      "- **Administered by:** India  \n",
      "- **Claimed by:** China (but not accepted globally)  \n",
      "- **Capital:** Itanagar  \n",
      "- **Borders:** Bhutan (west), Tibet (China) (north), Myanmar (east), and Assam (south)  \n",
      "\n",
      "India firmly controls Arunachal Pradesh, and it is a fully functional state with its own government, elections, and representation in the Indian Parliament.  \n",
      "\n",
      "Would you like more details on the history or geopolitical aspects?\n"
     ]
    }
   ],
   "source": [
    "print(answer)"
   ]
  },
  {
   "cell_type": "code",
   "execution_count": null,
   "id": "e97ad201",
   "metadata": {},
   "outputs": [],
   "source": []
  },
  {
   "cell_type": "code",
   "execution_count": null,
   "id": "b4423e42",
   "metadata": {},
   "outputs": [],
   "source": []
  }
 ],
 "metadata": {
  "kernelspec": {
   "display_name": ".venv",
   "language": "python",
   "name": "python3"
  },
  "language_info": {
   "codemirror_mode": {
    "name": "ipython",
    "version": 3
   },
   "file_extension": ".py",
   "mimetype": "text/x-python",
   "name": "python",
   "nbconvert_exporter": "python",
   "pygments_lexer": "ipython3",
   "version": "3.11.11"
  }
 },
 "nbformat": 4,
 "nbformat_minor": 5
}
