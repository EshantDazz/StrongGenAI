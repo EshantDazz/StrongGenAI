{
 "cells": [
  {
   "cell_type": "markdown",
   "id": "5d85efe2",
   "metadata": {},
   "source": [
    "In terminal type\n",
    "\n",
    "hugginfface-cli login "
   ]
  }
 ],
 "metadata": {
  "language_info": {
   "name": "python"
  }
 },
 "nbformat": 4,
 "nbformat_minor": 5
}
